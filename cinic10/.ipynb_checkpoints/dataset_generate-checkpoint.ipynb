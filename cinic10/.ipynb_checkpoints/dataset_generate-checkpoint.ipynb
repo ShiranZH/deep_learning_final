{
 "cells": [
  {
   "cell_type": "code",
   "execution_count": 1,
   "id": "89d93f2f-3e8e-4b74-8a2e-be60d7acf2a0",
   "metadata": {},
   "outputs": [],
   "source": [
    "# process data for caltech-256\n",
    "import os\n",
    "import shutil\n",
    "\n",
    "srcpath = \"./raw_dataset/tiny-imagenet-200/train\"\n",
    "\n",
    "dstpath = \"./data\"\n",
    "\n",
    "d = os.listdir(srcpath)\n",
    "d.sort()\n",
    "\n",
    "with open(r'./label.txt','w',encoding='utf-8') as f:\n",
    "    for i in d:\n",
    "        f.write(i)\n",
    "        f.write('\\n')"
   ]
  },
  {
   "cell_type": "code",
   "execution_count": 2,
   "id": "83d59369-4184-40fc-bd9b-8df5c8388e92",
   "metadata": {},
   "outputs": [],
   "source": [
    "# split training set and test set\n",
    "\n",
    "index = 0\n",
    "matrix = [[] for x in range(257)]\n",
    "for i in d:\n",
    "    for _,_,filename in os.walk(os.path.join(srcpath,i)):\n",
    "        for name in filename:\n",
    "            matrix[index].append(os.path.join(i,name))\n",
    "    index+=1"
   ]
  },
  {
   "cell_type": "code",
   "execution_count": 4,
   "id": "0b54f8ae-2f4d-488d-b1a5-c47b65b89c82",
   "metadata": {},
   "outputs": [],
   "source": [
    "test_dir = os.path.join(dstpath,\"test\")\n",
    "if not os.path.exists(test_dir):\n",
    "    os.mkdir(test_dir)\n",
    "\n",
    "train_dir = os.path.join(dstpath,\"train\")\n",
    "if not os.path.exists(train_dir):\n",
    "    os.mkdir(train_dir)\n",
    "\n",
    "index = 0\n",
    "for i in d:\n",
    "    test_class_dir = os.path.join(test_dir,i)\n",
    "    if not os.path.exists(test_class_dir):\n",
    "        os.mkdir(test_class_dir)\n",
    "    train_class_dir = os.path.join(train_dir,i)\n",
    "    if not os.path.exists(train_class_dir):\n",
    "        os.mkdir(train_class_dir)\n",
    "    for j in range(len(matrix[index])):\n",
    "        name = matrix[index][j]\n",
    "        if (j %8 ==0):\n",
    "            src = os.path.join(srcpath,name)\n",
    "            dst = os.path.join(test_dir,name)\n",
    "            shutil.copyfile(src, dst)\n",
    "        else:\n",
    "            src = os.path.join(srcpath,name)\n",
    "            dst = os.path.join(train_dir,name)\n",
    "            shutil.copyfile(src, dst)\n",
    "    index+=1"
   ]
  }
 ],
 "metadata": {
  "kernelspec": {
   "display_name": "default:Python",
   "language": "python",
   "name": "conda-env-default-py"
  },
  "language_info": {
   "codemirror_mode": {
    "name": "ipython",
    "version": 3
   },
   "file_extension": ".py",
   "mimetype": "text/x-python",
   "name": "python",
   "nbconvert_exporter": "python",
   "pygments_lexer": "ipython3",
   "version": "3.9.13"
  }
 },
 "nbformat": 4,
 "nbformat_minor": 5
}
