{
 "cells": [
  {
   "cell_type": "code",
   "execution_count": 1,
   "id": "a00da646-b8ea-4d47-91e9-de0a6931d479",
   "metadata": {},
   "outputs": [],
   "source": [
    "import os\n",
    "import sys"
   ]
  },
  {
   "cell_type": "code",
   "execution_count": 2,
   "id": "6e561aa1-0d8f-4168-a95e-051e417849ad",
   "metadata": {},
   "outputs": [],
   "source": [
    "record_path=\"./exp_record\"\n",
    "train_loss_txt = os.path.join(record_path,\"train_loss.txt\")\n",
    "train_acc_txt = os.path.join(record_path,\"train_acc.txt\")\n",
    "test_loss_txt = os.path.join(record_path,\"test_loss.txt\")\n",
    "test_acc_txt = os.path.join(record_path,\"test_acc.txt\")"
   ]
  },
  {
   "cell_type": "code",
   "execution_count": 3,
   "id": "86d3d7a3-820d-434f-9d3e-a58b772b5fd8",
   "metadata": {},
   "outputs": [],
   "source": [
    "with open(train_loss_txt,'a') as f1:\n",
    "    with open(train_acc_txt,'a') as f2:\n",
    "        with open(test_loss_txt,'a') as f3:\n",
    "            with open(test_acc_txt,'a') as f4:\n",
    "                f1.write(str(1.45566)+\"\\n\")\n",
    "                f2.write(str(1.466)+\"\\n\")\n",
    "                f3.write(str(1.66)+\"\\n\")\n",
    "                f4.write(str(1.455)+\"\\n\")"
   ]
  },
  {
   "cell_type": "code",
   "execution_count": 8,
   "id": "5e2ab43b-a59a-4b30-90bd-625153ffb0b9",
   "metadata": {},
   "outputs": [
    {
     "name": "stdout",
     "output_type": "stream",
     "text": [
      "['0.261394202709198', '0.35106998682022095', '0.38968023657798767', '0.4010910987854004', '0.43850135803222656', '0.4585675895214081', '0.47232285141944885', '0.4762449860572815', '0.49808892607688904', '0.4933112561702728', '0.5018666386604309', '0.510188639163971', '0.4979889392852783', '0.5185440182685852', '0.5120219588279724', '0.5370213985443115', '0.5351769924163818', '0.5166552066802979', '0.5433657169342041', '0.5409213304519653', '0.5521988272666931', '0.5450656414031982', '0.5552987456321716', '0.5481211543083191', '0.5628430247306824', '0.5341214537620544', '0.5776205062866211', '0.5452879071235657', '0.5571209788322449', '0.5649318695068359', '0.5795871019363403', '0.5670874118804932', '0.5691317915916443', '0.580664873123169', '0.5874980688095093', '0.5743094682693481', '0.5746094584465027', '0.5755333304405212', '0.5880666375160217', '0.5859000086784363', '0.5874444246292114', '0.5748444199562073', '0.5714222192764282', '0.5877888798713684', '0.5620444416999817', '0.6045222282409668', '0.6021333336830139', '0.5785555839538574', '0.6051333546638489', '0.5939444303512573', '0.573211133480072', '0.6069333553314209', '0.5849666595458984', '0.5903111100196838', '0.5948888659477234', '0.5933333039283752', '0.6037999987602234', '0.5912444591522217', '0.5925889015197754', '0.6044999957084656', '0.6087777614593506', '0.6081444621086121', '0.6208555698394775', '0.6157222390174866', '0.6215000152587891', '0.6249111294746399', '0.6260555386543274', '0.5764889121055603', '0.6151333451271057', '0.6449999809265137', '0.6342555284500122', '0.6377778053283691', '0.6343555450439453', '0.6529333591461182', '0.6193666458129883', '0.6284444332122803', '0.6071110963821411', '0.6543777585029602', '0.649055540561676', '0.6384999752044678', '0.6362555623054504', '0.6431778073310852', '0.6505444645881653', '0.6719555258750916', '0.605555534362793', '0.6232555508613586', '0.6089000105857849', '0.6477333307266235', '0.6442221999168396', '0.6685777902603149', '0.6362333297729492', '0.6577555537223816', '0.6480333209037781', '0.6102666854858398', '0.6413000226020813', '0.6507333517074585', '0.626622200012207', '0.6434666514396667', '0.6428999900817871', '0.6536111235618591', '0.6538110971450806']\n"
     ]
    }
   ],
   "source": [
    "list = []\n",
    "\n",
    "with open(train_acc_txt,'r') as f:\n",
    "    for line in f:\n",
    "        list.append(line.strip('\\n'))\n",
    "\n",
    "print(list)"
   ]
  },
  {
   "cell_type": "code",
   "execution_count": 1,
   "id": "6aa1a184-72eb-46db-a18c-89ce92d45088",
   "metadata": {},
   "outputs": [],
   "source": [
    "import time\n",
    "import torch\n",
    "import torch.nn as nn\n",
    "\n",
    "from torch.nn import init\n",
    "from utils.mobile import Mobile, hswish, MobileDown\n",
    "from utils.former import Former\n",
    "from utils.bridge import Mobile2Former, Former2Mobile\n",
    "from utils.config import config_294, config_508, config_52,config_96\n",
    "from torchinfo import summary"
   ]
  },
  {
   "cell_type": "code",
   "execution_count": 3,
   "id": "25bac4c6-c51d-496a-8dea-d47fabe46bcd",
   "metadata": {},
   "outputs": [
    {
     "name": "stdout",
     "output_type": "stream",
     "text": [
      "36\n",
      "tensor(0.7617, device='cuda:0')\n"
     ]
    }
   ],
   "source": [
    "checkpoint = torch.load('./checkpoint/checkpoint.pth.tar')\n",
    "print(checkpoint['epoch'])\n",
    "print(checkpoint['best_acc1'])"
   ]
  },
  {
   "cell_type": "code",
   "execution_count": 2,
   "id": "74925a6d-e028-4040-9bd7-c2916d556e5d",
   "metadata": {},
   "outputs": [],
   "source": [
    "from model import MobileFormer"
   ]
  },
  {
   "cell_type": "code",
   "execution_count": 3,
   "id": "28a18116-60ec-4df2-b95d-43cac9875e6d",
   "metadata": {},
   "outputs": [
    {
     "name": "stdout",
     "output_type": "stream",
     "text": [
      "torch.Size([1, 10])\n"
     ]
    }
   ],
   "source": [
    "model = MobileFormer(config_52)\n",
    "inputs = torch.randn((1, 3, 224, 224))\n",
    "# print(inputs.shape)\n",
    "# print(\"Total number of parameters in networks is {} M\".format(sum(x.numel() for x in model.parameters()) / 1e6))\n",
    "output = model(inputs)\n",
    "print(output.shape)"
   ]
  },
  {
   "cell_type": "code",
   "execution_count": null,
   "id": "4258cb06-c63c-4f0d-b838-aae833e2bd50",
   "metadata": {},
   "outputs": [],
   "source": []
  },
  {
   "cell_type": "code",
   "execution_count": 9,
   "id": "ecad66ed-46c6-4abd-9d18-f8cb7e455ed7",
   "metadata": {},
   "outputs": [
    {
     "name": "stdout",
     "output_type": "stream",
     "text": [
      "2562334\n"
     ]
    },
    {
     "data": {
      "text/plain": [
       "==============================================================================================================\n",
       "Layer (type:depth-idx)                                       Output Shape              Param #\n",
       "==============================================================================================================\n",
       "MobileFormer                                                 [1, 10]                   384\n",
       "├─Sequential: 1-1                                            [1, 8, 112, 112]          --\n",
       "│    └─Conv2d: 2-1                                           [1, 8, 112, 112]          216\n",
       "│    └─BatchNorm2d: 2-2                                      [1, 8, 112, 112]          16\n",
       "│    └─hswish: 2-3                                           [1, 8, 112, 112]          --\n",
       "├─Sequential: 1-2                                            [1, 12, 56, 56]           --\n",
       "│    └─Conv2d: 2-4                                           [1, 24, 56, 56]           240\n",
       "│    └─hswish: 2-5                                           [1, 24, 56, 56]           --\n",
       "│    └─Conv2d: 2-6                                           [1, 12, 56, 56]           300\n",
       "│    └─BatchNorm2d: 2-7                                      [1, 12, 56, 56]           24\n",
       "├─ModuleList: 1-3                                            --                        --\n",
       "│    └─BaseBlock: 2-8                                        [1, 12, 56, 56]           --\n",
       "│    │    └─Mobile2Former: 3-1                               [1, 3, 128]               6,296\n",
       "│    │    └─Former: 3-2                                      [1, 3, 128]               99,328\n",
       "│    │    └─Mobile: 3-3                                      [1, 12, 56, 56]           10,236\n",
       "│    │    └─Former2Mobile: 3-4                               [1, 12, 56, 56]           6,492\n",
       "│    └─BaseBlock: 2-9                                        [1, 24, 28, 28]           --\n",
       "│    │    └─Mobile2Former: 3-5                               [1, 3, 128]               6,296\n",
       "│    │    └─Former: 3-6                                      [1, 3, 128]               99,328\n",
       "│    │    └─MobileDown: 3-7                                  [1, 24, 28, 28]           17,880\n",
       "│    │    └─Former2Mobile: 3-8                               [1, 24, 28, 28]           13,560\n",
       "│    └─BaseBlock: 2-10                                       [1, 24, 28, 28]           --\n",
       "│    │    └─Mobile2Former: 3-9                               [1, 3, 128]               12,464\n",
       "│    │    └─Former: 3-10                                     [1, 3, 128]               99,328\n",
       "│    │    └─Mobile: 3-11                                     [1, 24, 28, 28]           18,072\n",
       "│    │    └─Former2Mobile: 3-12                              [1, 24, 28, 28]           13,560\n",
       "│    └─BaseBlock: 2-11                                       [1, 48, 14, 14]           --\n",
       "│    │    └─Mobile2Former: 3-13                              [1, 3, 128]               12,464\n",
       "│    │    └─Former: 3-14                                     [1, 3, 128]               99,328\n",
       "│    │    └─MobileDown: 3-15                                 [1, 48, 14, 14]           36,816\n",
       "│    │    └─Former2Mobile: 3-16                              [1, 48, 14, 14]           29,424\n",
       "│    └─BaseBlock: 2-12                                       [1, 48, 14, 14]           --\n",
       "│    │    └─Mobile2Former: 3-17                              [1, 3, 128]               24,800\n",
       "│    │    └─Former: 3-18                                     [1, 3, 128]               99,328\n",
       "│    │    └─Mobile: 3-19                                     [1, 48, 14, 14]           50,496\n",
       "│    │    └─Former2Mobile: 3-20                              [1, 48, 14, 14]           29,424\n",
       "│    └─BaseBlock: 2-13                                       [1, 64, 14, 14]           --\n",
       "│    │    └─Mobile2Former: 3-21                              [1, 3, 128]               24,800\n",
       "│    │    └─Former: 3-22                                     [1, 3, 128]               99,328\n",
       "│    │    └─Mobile: 3-23                                     [1, 64, 14, 14]           81,472\n",
       "│    │    └─Former2Mobile: 3-24                              [1, 64, 14, 14]           41,280\n",
       "│    └─BaseBlock: 2-14                                       [1, 96, 7, 7]             --\n",
       "│    │    └─Mobile2Former: 3-25                              [1, 3, 128]               33,024\n",
       "│    │    └─Former: 3-26                                     [1, 3, 128]               99,328\n",
       "│    │    └─MobileDown: 3-27                                 [1, 96, 7, 7]             125,024\n",
       "│    │    └─Former2Mobile: 3-28                              [1, 96, 7, 7]             68,064\n",
       "│    └─BaseBlock: 2-15                                       [1, 96, 7, 7]             --\n",
       "│    │    └─Mobile2Former: 3-29                              [1, 3, 128]               49,472\n",
       "│    │    └─Former: 3-30                                     [1, 3, 128]               99,328\n",
       "│    │    └─Mobile: 3-31                                     [1, 96, 7, 7]             198,432\n",
       "│    │    └─Former2Mobile: 3-32                              [1, 96, 7, 7]             68,064\n",
       "├─Conv2d: 1-4                                                [1, 576, 7, 7]            55,296\n",
       "├─BatchNorm2d: 1-5                                           [1, 576, 7, 7]            1,152\n",
       "├─AvgPool2d: 1-6                                             [1, 576, 1, 1]            --\n",
       "├─Sequential: 1-7                                            [1, 10]                   --\n",
       "│    └─Linear: 2-16                                          [1, 1024]                 721,920\n",
       "│    └─hswish: 2-17                                          [1, 1024]                 --\n",
       "│    └─Linear: 2-18                                          [1, 10]                   10,250\n",
       "==============================================================================================================\n",
       "Total params: 2,562,334\n",
       "Trainable params: 2,562,334\n",
       "Non-trainable params: 0\n",
       "Total mult-adds (M): 42.29\n",
       "==============================================================================================================\n",
       "Input size (MB): 0.60\n",
       "Forward/backward pass size (MB): 19.50\n",
       "Params size (MB): 10.25\n",
       "Estimated Total Size (MB): 30.35\n",
       "=============================================================================================================="
      ]
     },
     "execution_count": 9,
     "metadata": {},
     "output_type": "execute_result"
    }
   ],
   "source": [
    "params = sum(p.numel() for p in model.parameters())\n",
    "print(params)\n",
    "# print the overall architecture\n",
    "summary(model, input_size=(1,3, 224, 224))"
   ]
  },
  {
   "cell_type": "code",
   "execution_count": 15,
   "id": "305d8593-f7ee-4fb6-a14b-a975478fd09e",
   "metadata": {},
   "outputs": [],
   "source": [
    "a = torch.rand(2,1,4,3)\n",
    "b = torch.rand(2,2,3,6)"
   ]
  },
  {
   "cell_type": "code",
   "execution_count": null,
   "id": "dd514abb-b2ca-4376-89a9-b8fea761d377",
   "metadata": {},
   "outputs": [],
   "source": []
  },
  {
   "cell_type": "code",
   "execution_count": 16,
   "id": "21d0c9ee-b33c-4190-95e1-8dbaf5e478a6",
   "metadata": {},
   "outputs": [
    {
     "name": "stdout",
     "output_type": "stream",
     "text": [
      "torch.Size([2, 2, 4, 6])\n"
     ]
    }
   ],
   "source": [
    "c= a@b\n",
    "print(c.shape)"
   ]
  },
  {
   "cell_type": "code",
   "execution_count": null,
   "id": "042deecf-7f46-4887-b48b-e5f2867a4424",
   "metadata": {},
   "outputs": [],
   "source": []
  }
 ],
 "metadata": {
  "kernelspec": {
   "display_name": "default:Python",
   "language": "python",
   "name": "conda-env-default-py"
  },
  "language_info": {
   "codemirror_mode": {
    "name": "ipython",
    "version": 3
   },
   "file_extension": ".py",
   "mimetype": "text/x-python",
   "name": "python",
   "nbconvert_exporter": "python",
   "pygments_lexer": "ipython3",
   "version": "3.9.15"
  }
 },
 "nbformat": 4,
 "nbformat_minor": 5
}
